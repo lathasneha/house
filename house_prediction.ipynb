{
 "cells": [
  {
   "cell_type": "code",
   "execution_count": 15,
   "id": "4e405005",
   "metadata": {},
   "outputs": [],
   "source": [
    "\n",
    "    "
   ]
  },
  {
   "cell_type": "code",
   "execution_count": 14,
   "id": "eb6d1956",
   "metadata": {},
   "outputs": [
    {
     "name": "stdout",
     "output_type": "stream",
     "text": [
      "   Size of house(sq.ft.)  Price(in USD) Gender occupation  Age  \\\n",
      "0                   1500         250000   Male     Farmer   30   \n",
      "4                   4000         700000   Male      nurse   25   \n",
      "6                   5500         320000   Male     driver   40   \n",
      "\n",
      "      Type of house  Number of rooms  price(in USD)  \n",
      "0              Flat                2        25000.0  \n",
      "4  Individual House                3        70000.0  \n",
      "6               NaN                2        32000.0  \n"
     ]
    }
   ],
   "source": [
    "import pandas as pd\n",
    "data={\n",
    "    'Size of house(sq.ft.)':[1500,2000,2500,3000,4000,5000,5500],\n",
    "    'Price(in USD)':[250000,50000,60000,45000,700000,66000,320000],\n",
    "    'Gender':['Male','Female','Female','Male','Male','Female','Male'],\n",
    "    'occupation':['Farmer','Engineer','lawyer','doctor','nurse','teacher','driver'],\n",
    "    'Age':[30,45,29,56,25,67,40],\n",
    "    'Type of house':['Apartment','house','condo','house','TownHouse','house','individual house'],\n",
    "    'Number of rooms':[2,3,3,2,3,4,2]\n",
    "    }\n",
    "df=pd.DataFrame(data)\n",
    "df['Type of house'] = df['Type of house'].map({\n",
    "    'Apartment':'Flat',\n",
    "    'house':'individual house',\n",
    "    'condo':'flat',\n",
    "    'TownHouse':'Individual House'\n",
    "    })\n",
    "df['price(in USD)']=df['Price(in USD)']/10\n",
    "df=df[df['Price(in USD)']>100000]\n",
    "print(df)"
   ]
  },
  {
   "cell_type": "code",
   "execution_count": null,
   "id": "2c743286",
   "metadata": {
    "scrolled": false
   },
   "outputs": [],
   "source": []
  },
  {
   "cell_type": "code",
   "execution_count": null,
   "id": "906e24f0",
   "metadata": {},
   "outputs": [],
   "source": []
  },
  {
   "cell_type": "markdown",
   "id": "f1b4796a",
   "metadata": {},
   "source": [
    "\n"
   ]
  },
  {
   "cell_type": "markdown",
   "id": "d43bd061",
   "metadata": {},
   "source": []
  },
  {
   "cell_type": "code",
   "execution_count": null,
   "id": "a8cbc146",
   "metadata": {},
   "outputs": [],
   "source": []
  },
  {
   "cell_type": "code",
   "execution_count": null,
   "id": "5040caab",
   "metadata": {},
   "outputs": [],
   "source": []
  },
  {
   "cell_type": "code",
   "execution_count": 38,
   "id": "05dc1306",
   "metadata": {},
   "outputs": [
    {
     "name": "stdout",
     "output_type": "stream",
     "text": [
      "   alphabet  count\n",
      "0     index    0.0\n",
      "1     index    1.0\n",
      "2     index    2.0\n",
      "3     index    3.0\n",
      "4         a    0.0\n",
      "5         a    4.0\n",
      "6         a    0.0\n",
      "7         a    0.0\n",
      "8         b    2.0\n",
      "9         b    0.0\n",
      "10        b    0.0\n",
      "11        b    0.0\n",
      "12        c    0.0\n",
      "13        c    0.0\n",
      "14        c    0.0\n",
      "15        c    1.0\n",
      "16        d    0.0\n",
      "17        d    0.0\n",
      "18        d    1.0\n",
      "19        d    0.0\n"
     ]
    }
   ],
   "source": [
    "import pandas as pd\n",
    "str='abcdaaba'\n",
    "alphabet_count={char:str.count(char)for char in set(str)}\n",
    "count_df=pd.DataFrame(list(alphabet_count.items()),columns=['alphabet','count'])\n",
    "pivot_df=count_df.pivot(index=None,columns='alphabet',values='count').fillna(0)\n",
    "melted_df=pivot_df.reset_index().melt(id_vars=None,var_name='alphabet',value_name='count')\n",
    "count_df['new_column']=melted_df['count'] * 2\n",
    "print(melted_df)"
   ]
  },
  {
   "cell_type": "code",
   "execution_count": 39,
   "id": "7f8537ca",
   "metadata": {},
   "outputs": [
    {
     "name": "stdout",
     "output_type": "stream",
     "text": [
      "  alphabet  count  new_column\n",
      "0        b      2           4\n",
      "1        a      4           8\n",
      "2        d      1           2\n",
      "3        c      1           2\n"
     ]
    }
   ],
   "source": [
    "import pandas as pd\n",
    "str='abcdaaba'\n",
    "alphabet_count={char:str.count(char)for char in set(str)}\n",
    "count_df=pd.DataFrame(list(alphabet_count.items()),columns=['alphabet','count'])\n",
    "count_df['new_column']=count_df['count'] * 2\n",
    "print(count_df)"
   ]
  },
  {
   "cell_type": "code",
   "execution_count": 1,
   "id": "b1ef6e98",
   "metadata": {},
   "outputs": [
    {
     "name": "stdout",
     "output_type": "stream",
     "text": [
      "abcababcbdacdabddceabecdeba\n",
      "a    7\n",
      "b    7\n",
      "c    5\n",
      "d    5\n",
      "e    3\n",
      "dtype: int64\n",
      "{'a': 7, 'b': 7, 'c': 5, 'd': 5, 'e': 3}\n",
      "  char  freq\n",
      "0    a     7\n",
      "1    b     7\n",
      "2    c     5\n",
      "3    d     5\n",
      "4    e     3\n"
     ]
    }
   ],
   "source": [
    "import pandas as pd\n",
    "import numpy as np\n",
    "string_new = 'abcababcbdacdabddceabecdeba'\n",
    "print(string_new)\n",
    "list1 = list(string_new)\n",
    "# Get count occurrence of all values\n",
    "#from collections import Counter\n",
    "#count = Counter(list1)\n",
    "#print(count)\n",
    "series_count = pd.Series(list1).value_counts()\n",
    "print(series_count)\n",
    "print(series_count.to_dict())\n",
    "new_dict = {'char':series_count.to_dict().keys(),\n",
    "            'freq':series_count.to_dict().values()}\n",
    "df = pd.DataFrame(new_dict)\n",
    "print(df)"
   ]
  },
  {
   "cell_type": "code",
   "execution_count": null,
   "id": "e8bbe451",
   "metadata": {},
   "outputs": [],
   "source": []
  },
  {
   "cell_type": "code",
   "execution_count": null,
   "id": "147d6877",
   "metadata": {},
   "outputs": [],
   "source": []
  },
  {
   "cell_type": "code",
   "execution_count": null,
   "id": "9fb89e8d",
   "metadata": {},
   "outputs": [],
   "source": []
  },
  {
   "cell_type": "code",
   "execution_count": null,
   "id": "64283341",
   "metadata": {},
   "outputs": [],
   "source": []
  },
  {
   "cell_type": "code",
   "execution_count": null,
   "id": "0937531a",
   "metadata": {},
   "outputs": [],
   "source": []
  }
 ],
 "metadata": {
  "kernelspec": {
   "display_name": "Python 3 (ipykernel)",
   "language": "python",
   "name": "python3"
  },
  "language_info": {
   "codemirror_mode": {
    "name": "ipython",
    "version": 3
   },
   "file_extension": ".py",
   "mimetype": "text/x-python",
   "name": "python",
   "nbconvert_exporter": "python",
   "pygments_lexer": "ipython3",
   "version": "3.11.4"
  }
 },
 "nbformat": 4,
 "nbformat_minor": 5
}
